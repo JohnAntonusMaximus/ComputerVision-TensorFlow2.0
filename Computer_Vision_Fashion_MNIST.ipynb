{
  "nbformat": 4,
  "nbformat_minor": 0,
  "metadata": {
    "colab": {
      "name": "Computer Vision - Fashion MNIST.ipynb",
      "version": "0.3.2",
      "provenance": [],
      "include_colab_link": true
    },
    "kernelspec": {
      "name": "python3",
      "display_name": "Python 3"
    }
  },
  "cells": [
    {
      "cell_type": "markdown",
      "metadata": {
        "id": "view-in-github",
        "colab_type": "text"
      },
      "source": [
        "<a href=\"https://colab.research.google.com/github/JohnAntonusMaximus/ComputerVision-TensorFlow2.0/blob/master/Computer_Vision_Fashion_MNIST.ipynb\" target=\"_parent\"><img src=\"https://colab.research.google.com/assets/colab-badge.svg\" alt=\"Open In Colab\"/></a>"
      ]
    },
    {
      "cell_type": "code",
      "metadata": {
        "id": "FCH55W2C1Ntx",
        "colab_type": "code",
        "colab": {}
      },
      "source": [
        "# Computer Vision Using Fashion MNIST Database from Kaggle - \n",
        "\n",
        "# This model views pictures of clothes from the dataset and makes predictions based on what type of article of clothing is presented"
      ],
      "execution_count": 0,
      "outputs": []
    },
    {
      "cell_type": "markdown",
      "metadata": {
        "id": "sJr4nMgyb9oS",
        "colab_type": "text"
      },
      "source": [
        "\n",
        "<p align=\"center\">\n",
        "  <img src=\"https://storage.googleapis.com/kaggle-datasets-images/2243/3791/9384af51de8baa77f6320901f53bd26b/dataset-cover.png\" />\n",
        "  Image source: https://www.kaggle.com/\n",
        "</p>"
      ]
    },
    {
      "cell_type": "code",
      "metadata": {
        "id": "EHF55vTa1U1W",
        "colab_type": "code",
        "colab": {
          "base_uri": "https://localhost:8080/",
          "height": 496
        },
        "outputId": "cd2bd1b5-553f-4b2e-910f-cb492858a4c8"
      },
      "source": [
        "!pip install tensorflow-gpu==2.0.0.alpha0"
      ],
      "execution_count": 1,
      "outputs": [
        {
          "output_type": "stream",
          "text": [
            "Collecting tensorflow-gpu==2.0.0.alpha0\n",
            "\u001b[?25l  Downloading https://files.pythonhosted.org/packages/1a/66/32cffad095253219d53f6b6c2a436637bbe45ac4e7be0244557210dc3918/tensorflow_gpu-2.0.0a0-cp36-cp36m-manylinux1_x86_64.whl (332.1MB)\n",
            "\u001b[K     |████████████████████████████████| 332.1MB 63kB/s \n",
            "\u001b[?25hRequirement already satisfied: keras-applications>=1.0.6 in /usr/local/lib/python3.6/dist-packages (from tensorflow-gpu==2.0.0.alpha0) (1.0.8)\n",
            "Collecting tb-nightly<1.14.0a20190302,>=1.14.0a20190301 (from tensorflow-gpu==2.0.0.alpha0)\n",
            "\u001b[?25l  Downloading https://files.pythonhosted.org/packages/a9/51/aa1d756644bf4624c03844115e4ac4058eff77acd786b26315f051a4b195/tb_nightly-1.14.0a20190301-py3-none-any.whl (3.0MB)\n",
            "\u001b[K     |████████████████████████████████| 3.0MB 28.9MB/s \n",
            "\u001b[?25hRequirement already satisfied: keras-preprocessing>=1.0.5 in /usr/local/lib/python3.6/dist-packages (from tensorflow-gpu==2.0.0.alpha0) (1.1.0)\n",
            "Requirement already satisfied: absl-py>=0.7.0 in /usr/local/lib/python3.6/dist-packages (from tensorflow-gpu==2.0.0.alpha0) (0.7.1)\n",
            "Collecting tf-estimator-nightly<1.14.0.dev2019030116,>=1.14.0.dev2019030115 (from tensorflow-gpu==2.0.0.alpha0)\n",
            "\u001b[?25l  Downloading https://files.pythonhosted.org/packages/13/82/f16063b4eed210dc2ab057930ac1da4fbe1e91b7b051a6c8370b401e6ae7/tf_estimator_nightly-1.14.0.dev2019030115-py2.py3-none-any.whl (411kB)\n",
            "\u001b[K     |████████████████████████████████| 419kB 42.9MB/s \n",
            "\u001b[?25hRequirement already satisfied: termcolor>=1.1.0 in /usr/local/lib/python3.6/dist-packages (from tensorflow-gpu==2.0.0.alpha0) (1.1.0)\n",
            "Requirement already satisfied: grpcio>=1.8.6 in /usr/local/lib/python3.6/dist-packages (from tensorflow-gpu==2.0.0.alpha0) (1.15.0)\n",
            "Requirement already satisfied: wheel>=0.26 in /usr/local/lib/python3.6/dist-packages (from tensorflow-gpu==2.0.0.alpha0) (0.33.4)\n",
            "Requirement already satisfied: protobuf>=3.6.1 in /usr/local/lib/python3.6/dist-packages (from tensorflow-gpu==2.0.0.alpha0) (3.7.1)\n",
            "Requirement already satisfied: six>=1.10.0 in /usr/local/lib/python3.6/dist-packages (from tensorflow-gpu==2.0.0.alpha0) (1.12.0)\n",
            "Requirement already satisfied: numpy<2.0,>=1.14.5 in /usr/local/lib/python3.6/dist-packages (from tensorflow-gpu==2.0.0.alpha0) (1.16.4)\n",
            "Requirement already satisfied: astor>=0.6.0 in /usr/local/lib/python3.6/dist-packages (from tensorflow-gpu==2.0.0.alpha0) (0.8.0)\n",
            "Requirement already satisfied: gast>=0.2.0 in /usr/local/lib/python3.6/dist-packages (from tensorflow-gpu==2.0.0.alpha0) (0.2.2)\n",
            "Requirement already satisfied: google-pasta>=0.1.2 in /usr/local/lib/python3.6/dist-packages (from tensorflow-gpu==2.0.0.alpha0) (0.1.7)\n",
            "Requirement already satisfied: h5py in /usr/local/lib/python3.6/dist-packages (from keras-applications>=1.0.6->tensorflow-gpu==2.0.0.alpha0) (2.8.0)\n",
            "Requirement already satisfied: werkzeug>=0.11.15 in /usr/local/lib/python3.6/dist-packages (from tb-nightly<1.14.0a20190302,>=1.14.0a20190301->tensorflow-gpu==2.0.0.alpha0) (0.15.5)\n",
            "Requirement already satisfied: markdown>=2.6.8 in /usr/local/lib/python3.6/dist-packages (from tb-nightly<1.14.0a20190302,>=1.14.0a20190301->tensorflow-gpu==2.0.0.alpha0) (3.1.1)\n",
            "Requirement already satisfied: setuptools in /usr/local/lib/python3.6/dist-packages (from protobuf>=3.6.1->tensorflow-gpu==2.0.0.alpha0) (41.0.1)\n",
            "Installing collected packages: tb-nightly, tf-estimator-nightly, tensorflow-gpu\n",
            "Successfully installed tb-nightly-1.14.0a20190301 tensorflow-gpu-2.0.0a0 tf-estimator-nightly-1.14.0.dev2019030115\n"
          ],
          "name": "stdout"
        }
      ]
    },
    {
      "cell_type": "code",
      "metadata": {
        "id": "hryPjU431Xb0",
        "colab_type": "code",
        "colab": {
          "base_uri": "https://localhost:8080/",
          "height": 34
        },
        "outputId": "10987575-f6f7-4dd1-ccbf-41dde1abc4fb"
      },
      "source": [
        "import numpy as np\n",
        "import datetime\n",
        "import tensorflow as tf\n",
        "from tensorflow.keras.datasets import fashion_mnist\n",
        "\n",
        "tf.__version__"
      ],
      "execution_count": 27,
      "outputs": [
        {
          "output_type": "execute_result",
          "data": {
            "text/plain": [
              "'2.0.0-alpha0'"
            ]
          },
          "metadata": {
            "tags": []
          },
          "execution_count": 27
        }
      ]
    },
    {
      "cell_type": "code",
      "metadata": {
        "id": "rWygnvxz1bsi",
        "colab_type": "code",
        "colab": {}
      },
      "source": [
        "#Loading the data set, split into train and test sets\n",
        "(X_train, y_train), (X_test, y_test) = fashion_mnist.load_data()"
      ],
      "execution_count": 0,
      "outputs": []
    },
    {
      "cell_type": "code",
      "metadata": {
        "id": "ganysekM1hcN",
        "colab_type": "code",
        "colab": {}
      },
      "source": [
        "# Normalize the data to make training faster, standard for computer vision is to divide by 255, the max value of a pixel\n",
        "X_train = X_train / 255.0\n",
        "X_test = X_test / 255.0"
      ],
      "execution_count": 0,
      "outputs": []
    },
    {
      "cell_type": "code",
      "metadata": {
        "id": "4DzCGjeK1z0S",
        "colab_type": "code",
        "colab": {}
      },
      "source": [
        "# Reshape the dataset, flatten all 3D tensors to a single 1d tensor\n",
        "X_train = X_train.reshape(-1, 28*28)\n",
        "X_test = X_test.reshape(-1, 28*28)"
      ],
      "execution_count": 0,
      "outputs": []
    },
    {
      "cell_type": "code",
      "metadata": {
        "id": "EqcyxCUq2BzV",
        "colab_type": "code",
        "colab": {}
      },
      "source": [
        "# Define a fully connected sequential model with keras, add layers as needed. Use dropout to prevent overfitting during training\n",
        "model = tf.keras.models.Sequential()\n",
        "#model.add(tf.keras.layers.Dense(units=64, activation='relu', input_shape=(784,)))\n",
        "#model.add(tf.keras.layers.Dropout(0.2))\n",
        "model.add(tf.keras.layers.Dense(units=128, activation='relu', input_shape=(784,)))\n",
        "model.add(tf.keras.layers.Dropout(0.2))\n",
        "#model.add(tf.keras.layers.Dense(units=256, activation='relu', input_shape=(784,)))\n",
        "#model.add(tf.keras.layers.Dropout(0.2))\n",
        "\n",
        "# Add an output layer equal to the number of potential categories\n",
        "model.add(tf.keras.layers.Dense(units=10, activation='softmax'))"
      ],
      "execution_count": 0,
      "outputs": []
    },
    {
      "cell_type": "code",
      "metadata": {
        "id": "QtgxTQHc32NC",
        "colab_type": "code",
        "colab": {}
      },
      "source": [
        "# Compile the model, add an optimizer and loss function \n",
        "model.compile(optimizer=tf.keras.optimizers.RMSprop(.001), loss=tf.keras.losses.SparseCategoricalCrossentropy(), metrics=[tf.keras.metrics.SparseCategoricalAccuracy()])\n"
      ],
      "execution_count": 0,
      "outputs": []
    },
    {
      "cell_type": "code",
      "metadata": {
        "id": "ajSm7N1U2WU0",
        "colab_type": "code",
        "colab": {
          "base_uri": "https://localhost:8080/",
          "height": 255
        },
        "outputId": "45ea77a3-ce90-4169-c4f4-d28cbdb45a75"
      },
      "source": [
        "# Summarize the model before training\n",
        "model.summary()"
      ],
      "execution_count": 63,
      "outputs": [
        {
          "output_type": "stream",
          "text": [
            "Model: \"sequential_10\"\n",
            "_________________________________________________________________\n",
            "Layer (type)                 Output Shape              Param #   \n",
            "=================================================================\n",
            "dense_23 (Dense)             (None, 128)               100480    \n",
            "_________________________________________________________________\n",
            "dropout_19 (Dropout)         (None, 128)               0         \n",
            "_________________________________________________________________\n",
            "dense_24 (Dense)             (None, 10)                1290      \n",
            "=================================================================\n",
            "Total params: 101,770\n",
            "Trainable params: 101,770\n",
            "Non-trainable params: 0\n",
            "_________________________________________________________________\n"
          ],
          "name": "stdout"
        }
      ]
    },
    {
      "cell_type": "code",
      "metadata": {
        "id": "oSfnIJ0z2lhX",
        "colab_type": "code",
        "colab": {
          "base_uri": "https://localhost:8080/",
          "height": 1000
        },
        "outputId": "145c02d7-bebd-43fa-b74b-ab91bbfc23b3"
      },
      "source": [
        "# Train the model, adjust epochs as a changeable hyperparameter\n",
        "model.fit(X_train, y_train, epochs=200)"
      ],
      "execution_count": 0,
      "outputs": [
        {
          "output_type": "stream",
          "text": [
            "Epoch 1/200\n",
            "60000/60000 [==============================] - 9s 147us/sample - loss: 0.5337 - sparse_categorical_accuracy: 0.8101\n",
            "Epoch 2/200\n",
            "60000/60000 [==============================] - 8s 137us/sample - loss: 0.4091 - sparse_categorical_accuracy: 0.8554\n",
            "Epoch 3/200\n",
            "60000/60000 [==============================] - 8s 126us/sample - loss: 0.3867 - sparse_categorical_accuracy: 0.8648\n",
            "Epoch 4/200\n",
            "60000/60000 [==============================] - 9s 145us/sample - loss: 0.3750 - sparse_categorical_accuracy: 0.8708\n",
            "Epoch 5/200\n",
            "60000/60000 [==============================] - 9s 142us/sample - loss: 0.3659 - sparse_categorical_accuracy: 0.8753\n",
            "Epoch 6/200\n",
            "60000/60000 [==============================] - 8s 138us/sample - loss: 0.3593 - sparse_categorical_accuracy: 0.8773\n",
            "Epoch 7/200\n",
            "60000/60000 [==============================] - 8s 137us/sample - loss: 0.3549 - sparse_categorical_accuracy: 0.8812\n",
            "Epoch 8/200\n",
            "60000/60000 [==============================] - 6s 107us/sample - loss: 0.3554 - sparse_categorical_accuracy: 0.8814\n",
            "Epoch 9/200\n",
            "60000/60000 [==============================] - 8s 139us/sample - loss: 0.3488 - sparse_categorical_accuracy: 0.8854\n",
            "Epoch 10/200\n",
            "60000/60000 [==============================] - 8s 140us/sample - loss: 0.3465 - sparse_categorical_accuracy: 0.8870\n",
            "Epoch 11/200\n",
            "60000/60000 [==============================] - 8s 141us/sample - loss: 0.3466 - sparse_categorical_accuracy: 0.8878\n",
            "Epoch 12/200\n",
            "60000/60000 [==============================] - 9s 147us/sample - loss: 0.3488 - sparse_categorical_accuracy: 0.8880\n",
            "Epoch 13/200\n",
            "60000/60000 [==============================] - 9s 143us/sample - loss: 0.3435 - sparse_categorical_accuracy: 0.8895\n",
            "Epoch 14/200\n",
            "60000/60000 [==============================] - 8s 138us/sample - loss: 0.3427 - sparse_categorical_accuracy: 0.8897\n",
            "Epoch 15/200\n",
            "60000/60000 [==============================] - 9s 145us/sample - loss: 0.3437 - sparse_categorical_accuracy: 0.8906\n",
            "Epoch 16/200\n",
            "60000/60000 [==============================] - 9s 143us/sample - loss: 0.3376 - sparse_categorical_accuracy: 0.8933\n",
            "Epoch 17/200\n",
            "60000/60000 [==============================] - 9s 145us/sample - loss: 0.3399 - sparse_categorical_accuracy: 0.8926\n",
            "Epoch 18/200\n",
            "60000/60000 [==============================] - 8s 131us/sample - loss: 0.3369 - sparse_categorical_accuracy: 0.8954\n",
            "Epoch 19/200\n",
            "60000/60000 [==============================] - 8s 136us/sample - loss: 0.3373 - sparse_categorical_accuracy: 0.8946\n",
            "Epoch 20/200\n",
            "60000/60000 [==============================] - 8s 129us/sample - loss: 0.3393 - sparse_categorical_accuracy: 0.8958\n",
            "Epoch 21/200\n",
            "60000/60000 [==============================] - 8s 141us/sample - loss: 0.3356 - sparse_categorical_accuracy: 0.8969\n",
            "Epoch 22/200\n",
            "60000/60000 [==============================] - 7s 123us/sample - loss: 0.3347 - sparse_categorical_accuracy: 0.8975\n",
            "Epoch 23/200\n",
            "60000/60000 [==============================] - 8s 139us/sample - loss: 0.3306 - sparse_categorical_accuracy: 0.8994\n",
            "Epoch 24/200\n",
            "60000/60000 [==============================] - 8s 128us/sample - loss: 0.3297 - sparse_categorical_accuracy: 0.8990\n",
            "Epoch 25/200\n",
            "60000/60000 [==============================] - 8s 141us/sample - loss: 0.3347 - sparse_categorical_accuracy: 0.8993\n",
            "Epoch 26/200\n",
            "60000/60000 [==============================] - 8s 135us/sample - loss: 0.3327 - sparse_categorical_accuracy: 0.8998\n",
            "Epoch 27/200\n",
            "60000/60000 [==============================] - 9s 143us/sample - loss: 0.3315 - sparse_categorical_accuracy: 0.9010\n",
            "Epoch 28/200\n",
            "60000/60000 [==============================] - 7s 123us/sample - loss: 0.3315 - sparse_categorical_accuracy: 0.8995\n",
            "Epoch 29/200\n",
            "60000/60000 [==============================] - 7s 123us/sample - loss: 0.3244 - sparse_categorical_accuracy: 0.9022\n",
            "Epoch 30/200\n",
            "60000/60000 [==============================] - 8s 129us/sample - loss: 0.3297 - sparse_categorical_accuracy: 0.9011\n",
            "Epoch 31/200\n",
            "60000/60000 [==============================] - 8s 141us/sample - loss: 0.3303 - sparse_categorical_accuracy: 0.9026\n",
            "Epoch 32/200\n",
            "60000/60000 [==============================] - 9s 144us/sample - loss: 0.3250 - sparse_categorical_accuracy: 0.9026\n",
            "Epoch 33/200\n",
            "60000/60000 [==============================] - 8s 131us/sample - loss: 0.3324 - sparse_categorical_accuracy: 0.9039\n",
            "Epoch 34/200\n",
            "60000/60000 [==============================] - 8s 131us/sample - loss: 0.3259 - sparse_categorical_accuracy: 0.9042\n",
            "Epoch 35/200\n",
            "60000/60000 [==============================] - 8s 136us/sample - loss: 0.3306 - sparse_categorical_accuracy: 0.9042\n",
            "Epoch 36/200\n",
            "60000/60000 [==============================] - 8s 131us/sample - loss: 0.3261 - sparse_categorical_accuracy: 0.9047\n",
            "Epoch 37/200\n",
            "60000/60000 [==============================] - 8s 128us/sample - loss: 0.3317 - sparse_categorical_accuracy: 0.9041\n",
            "Epoch 38/200\n",
            "60000/60000 [==============================] - 9s 142us/sample - loss: 0.3263 - sparse_categorical_accuracy: 0.9054\n",
            "Epoch 39/200\n",
            "60000/60000 [==============================] - 9s 144us/sample - loss: 0.3225 - sparse_categorical_accuracy: 0.9049\n",
            "Epoch 40/200\n",
            "60000/60000 [==============================] - 9s 147us/sample - loss: 0.3250 - sparse_categorical_accuracy: 0.9068\n",
            "Epoch 41/200\n",
            "60000/60000 [==============================] - 8s 132us/sample - loss: 0.3233 - sparse_categorical_accuracy: 0.9077\n",
            "Epoch 42/200\n",
            "60000/60000 [==============================] - 8s 133us/sample - loss: 0.3251 - sparse_categorical_accuracy: 0.9072\n",
            "Epoch 43/200\n",
            "60000/60000 [==============================] - 9s 149us/sample - loss: 0.3227 - sparse_categorical_accuracy: 0.9093\n",
            "Epoch 44/200\n",
            "60000/60000 [==============================] - 9s 150us/sample - loss: 0.3206 - sparse_categorical_accuracy: 0.9071\n",
            "Epoch 45/200\n",
            "60000/60000 [==============================] - 8s 136us/sample - loss: 0.3228 - sparse_categorical_accuracy: 0.9073\n",
            "Epoch 46/200\n",
            "60000/60000 [==============================] - 8s 138us/sample - loss: 0.3222 - sparse_categorical_accuracy: 0.9084\n",
            "Epoch 47/200\n",
            "60000/60000 [==============================] - 9s 144us/sample - loss: 0.3264 - sparse_categorical_accuracy: 0.9093\n",
            "Epoch 48/200\n",
            "60000/60000 [==============================] - 9s 144us/sample - loss: 0.3239 - sparse_categorical_accuracy: 0.9101\n",
            "Epoch 49/200\n",
            "60000/60000 [==============================] - 9s 146us/sample - loss: 0.3253 - sparse_categorical_accuracy: 0.9088\n",
            "Epoch 50/200\n",
            "60000/60000 [==============================] - 9s 153us/sample - loss: 0.3220 - sparse_categorical_accuracy: 0.9107\n",
            "Epoch 51/200\n",
            "60000/60000 [==============================] - 8s 140us/sample - loss: 0.3220 - sparse_categorical_accuracy: 0.9103\n",
            "Epoch 52/200\n",
            "60000/60000 [==============================] - 9s 152us/sample - loss: 0.3226 - sparse_categorical_accuracy: 0.9100\n",
            "Epoch 53/200\n",
            "60000/60000 [==============================] - 10s 159us/sample - loss: 0.3204 - sparse_categorical_accuracy: 0.9110\n",
            "Epoch 54/200\n",
            "60000/60000 [==============================] - 10s 160us/sample - loss: 0.3192 - sparse_categorical_accuracy: 0.9114\n",
            "Epoch 55/200\n",
            "60000/60000 [==============================] - 10s 162us/sample - loss: 0.3263 - sparse_categorical_accuracy: 0.9101\n",
            "Epoch 56/200\n",
            "60000/60000 [==============================] - 9s 147us/sample - loss: 0.3106 - sparse_categorical_accuracy: 0.9115\n",
            "Epoch 57/200\n",
            "60000/60000 [==============================] - 9s 145us/sample - loss: 0.3225 - sparse_categorical_accuracy: 0.9106\n",
            "Epoch 58/200\n",
            "60000/60000 [==============================] - 9s 155us/sample - loss: 0.3118 - sparse_categorical_accuracy: 0.9124\n",
            "Epoch 59/200\n",
            "60000/60000 [==============================] - 9s 155us/sample - loss: 0.3251 - sparse_categorical_accuracy: 0.9126\n",
            "Epoch 60/200\n",
            "60000/60000 [==============================] - 10s 159us/sample - loss: 0.3157 - sparse_categorical_accuracy: 0.9128\n",
            "Epoch 61/200\n",
            "60000/60000 [==============================] - 10s 160us/sample - loss: 0.3189 - sparse_categorical_accuracy: 0.9113\n",
            "Epoch 62/200\n",
            "60000/60000 [==============================] - 9s 146us/sample - loss: 0.3174 - sparse_categorical_accuracy: 0.9122\n",
            "Epoch 63/200\n",
            "60000/60000 [==============================] - 9s 142us/sample - loss: 0.3167 - sparse_categorical_accuracy: 0.9141\n",
            "Epoch 64/200\n",
            "60000/60000 [==============================] - 8s 140us/sample - loss: 0.3150 - sparse_categorical_accuracy: 0.9129\n",
            "Epoch 65/200\n",
            "60000/60000 [==============================] - 8s 141us/sample - loss: 0.3193 - sparse_categorical_accuracy: 0.9124\n",
            "Epoch 66/200\n",
            "60000/60000 [==============================] - 8s 139us/sample - loss: 0.3219 - sparse_categorical_accuracy: 0.9144\n",
            "Epoch 67/200\n",
            "60000/60000 [==============================] - 9s 142us/sample - loss: 0.3224 - sparse_categorical_accuracy: 0.9127\n",
            "Epoch 68/200\n",
            "60000/60000 [==============================] - 8s 138us/sample - loss: 0.3204 - sparse_categorical_accuracy: 0.9130\n",
            "Epoch 69/200\n",
            "60000/60000 [==============================] - 8s 131us/sample - loss: 0.3191 - sparse_categorical_accuracy: 0.9131\n",
            "Epoch 70/200\n",
            "60000/60000 [==============================] - 8s 128us/sample - loss: 0.3144 - sparse_categorical_accuracy: 0.9153\n",
            "Epoch 71/200\n",
            "60000/60000 [==============================] - 7s 125us/sample - loss: 0.3233 - sparse_categorical_accuracy: 0.9144\n",
            "Epoch 72/200\n",
            "60000/60000 [==============================] - 8s 133us/sample - loss: 0.3132 - sparse_categorical_accuracy: 0.9151\n",
            "Epoch 73/200\n",
            "60000/60000 [==============================] - 8s 127us/sample - loss: 0.3223 - sparse_categorical_accuracy: 0.9152\n",
            "Epoch 74/200\n",
            "60000/60000 [==============================] - 8s 126us/sample - loss: 0.3173 - sparse_categorical_accuracy: 0.9148\n",
            "Epoch 75/200\n",
            "60000/60000 [==============================] - 8s 126us/sample - loss: 0.3238 - sparse_categorical_accuracy: 0.9150\n",
            "Epoch 76/200\n",
            "60000/60000 [==============================] - 7s 125us/sample - loss: 0.3273 - sparse_categorical_accuracy: 0.9155\n",
            "Epoch 77/200\n",
            "60000/60000 [==============================] - 8s 130us/sample - loss: 0.3224 - sparse_categorical_accuracy: 0.9157\n",
            "Epoch 78/200\n",
            "60000/60000 [==============================] - 7s 124us/sample - loss: 0.3183 - sparse_categorical_accuracy: 0.9170\n",
            "Epoch 79/200\n",
            "60000/60000 [==============================] - 7s 118us/sample - loss: 0.3173 - sparse_categorical_accuracy: 0.9152\n",
            "Epoch 80/200\n",
            "60000/60000 [==============================] - 7s 118us/sample - loss: 0.3164 - sparse_categorical_accuracy: 0.9154\n",
            "Epoch 81/200\n",
            "60000/60000 [==============================] - 6s 103us/sample - loss: 0.3169 - sparse_categorical_accuracy: 0.9164\n",
            "Epoch 82/200\n",
            "60000/60000 [==============================] - 6s 103us/sample - loss: 0.3163 - sparse_categorical_accuracy: 0.9172\n",
            "Epoch 83/200\n",
            "60000/60000 [==============================] - 6s 103us/sample - loss: 0.3123 - sparse_categorical_accuracy: 0.9176\n",
            "Epoch 84/200\n",
            "60000/60000 [==============================] - 6s 106us/sample - loss: 0.3125 - sparse_categorical_accuracy: 0.9170\n",
            "Epoch 85/200\n",
            "60000/60000 [==============================] - 7s 108us/sample - loss: 0.3066 - sparse_categorical_accuracy: 0.9183\n",
            "Epoch 86/200\n",
            "60000/60000 [==============================] - 7s 115us/sample - loss: 0.3180 - sparse_categorical_accuracy: 0.9169\n",
            "Epoch 87/200\n",
            "60000/60000 [==============================] - 6s 106us/sample - loss: 0.3128 - sparse_categorical_accuracy: 0.9185\n",
            "Epoch 88/200\n",
            "60000/60000 [==============================] - 6s 106us/sample - loss: 0.3169 - sparse_categorical_accuracy: 0.9172\n",
            "Epoch 89/200\n",
            "60000/60000 [==============================] - 7s 111us/sample - loss: 0.3111 - sparse_categorical_accuracy: 0.9183\n",
            "Epoch 90/200\n",
            "60000/60000 [==============================] - 6s 107us/sample - loss: 0.3202 - sparse_categorical_accuracy: 0.9176\n",
            "Epoch 91/200\n",
            "60000/60000 [==============================] - 6s 106us/sample - loss: 0.3097 - sparse_categorical_accuracy: 0.9198\n",
            "Epoch 92/200\n",
            "43168/60000 [====================>.........] - ETA: 1s - loss: 0.3096 - sparse_categorical_accuracy: 0.9183"
          ],
          "name": "stdout"
        }
      ]
    },
    {
      "cell_type": "code",
      "metadata": {
        "id": "LJG7WlUD2sHs",
        "colab_type": "code",
        "colab": {}
      },
      "source": [
        "# Evaluate the model against test set\n",
        "test_loss, test_accuracy = model.evaluate(x_test, y_test)\n",
        "print(\"Test accuracy: {}\".format(test_accuracy))"
      ],
      "execution_count": 0,
      "outputs": []
    },
    {
      "cell_type": "code",
      "metadata": {
        "id": "QoP3HdFY4vd1",
        "colab_type": "code",
        "colab": {}
      },
      "source": [
        "# Make 3 predictions from the output of the last layer\n",
        "print('\\n# 3 Predictions:')\n",
        "predictions = model.predict(x_test[:3])\n",
        "print('predictions shape:', predictions.shape)"
      ],
      "execution_count": 0,
      "outputs": []
    },
    {
      "cell_type": "code",
      "metadata": {
        "id": "hMY_KzfK25df",
        "colab_type": "code",
        "colab": {}
      },
      "source": [
        "# Save the model to a file \n",
        "model_json = model.to_json()\n",
        "with open(\"fashion_model.json\", \"w\") as json_file:\n",
        "    json_file.write(model_json)\n",
        "    \n",
        "    \n",
        "model_json = model.to_json()\n",
        "with open(\"fashion_model.json\", \"w\") as json_file:\n",
        "    json_file.write(model_json)"
      ],
      "execution_count": 0,
      "outputs": []
    },
    {
      "cell_type": "code",
      "metadata": {
        "id": "6Cl97Q5I3GQ9",
        "colab_type": "code",
        "colab": {}
      },
      "source": [
        "# Save the learned network weights\n",
        "model.save_weights(\"fashion_model.h5\")"
      ],
      "execution_count": 0,
      "outputs": []
    }
  ]
}