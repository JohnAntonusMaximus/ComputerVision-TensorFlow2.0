{
  "nbformat": 4,
  "nbformat_minor": 0,
  "metadata": {
    "colab": {
      "name": "Computer Vision - Fashion MNIST.ipynb",
      "version": "0.3.2",
      "provenance": [],
      "include_colab_link": true
    },
    "kernelspec": {
      "name": "python3",
      "display_name": "Python 3"
    }
  },
  "cells": [
    {
      "cell_type": "markdown",
      "metadata": {
        "id": "view-in-github",
        "colab_type": "text"
      },
      "source": [
        "<a href=\"https://colab.research.google.com/github/JohnAntonusMaximus/ComputerVision-TensorFlow2.0/blob/master/Computer_Vision_Fashion_MNIST.ipynb\" target=\"_parent\"><img src=\"https://colab.research.google.com/assets/colab-badge.svg\" alt=\"Open In Colab\"/></a>"
      ]
    },
    {
      "cell_type": "code",
      "metadata": {
        "id": "FCH55W2C1Ntx",
        "colab_type": "code",
        "colab": {}
      },
      "source": [
        "# Computer Vision Using Fashion MNIST Database from Kaggle - \n",
        "\n",
        "# This model views pictures of clothes from the dataset and makes predictions based on what type of article of clothing is presented"
      ],
      "execution_count": 0,
      "outputs": []
    },
    {
      "cell_type": "markdown",
      "metadata": {
        "id": "sJr4nMgyb9oS",
        "colab_type": "text"
      },
      "source": [
        "\n",
        "<p align=\"center\">\n",
        "  <img src=\"https://storage.googleapis.com/kaggle-datasets-images/2243/3791/9384af51de8baa77f6320901f53bd26b/dataset-cover.png\" />\n",
        "  Image source: https://www.kaggle.com/\n",
        "</p>"
      ]
    },
    {
      "cell_type": "code",
      "metadata": {
        "id": "EHF55vTa1U1W",
        "colab_type": "code",
        "colab": {}
      },
      "source": [
        "!pip install tensorflow-gpu==2.0.0.alpha0"
      ],
      "execution_count": 0,
      "outputs": []
    },
    {
      "cell_type": "code",
      "metadata": {
        "id": "hryPjU431Xb0",
        "colab_type": "code",
        "colab": {}
      },
      "source": [
        "import numpy as np\n",
        "import datetime\n",
        "import tensorflow as tf\n",
        "from tensorflow.keras.datasets import fashion_mnist\n",
        "\n",
        "tf.__version__"
      ],
      "execution_count": 0,
      "outputs": []
    },
    {
      "cell_type": "code",
      "metadata": {
        "id": "rWygnvxz1bsi",
        "colab_type": "code",
        "colab": {}
      },
      "source": [
        "#Loading the data set, split into train and test sets\n",
        "(X_train, y_train), (X_test, y_test) = fashion_mnist.load_data()"
      ],
      "execution_count": 0,
      "outputs": []
    },
    {
      "cell_type": "code",
      "metadata": {
        "id": "ganysekM1hcN",
        "colab_type": "code",
        "colab": {}
      },
      "source": [
        "# Normalize the data to make training faster, standard for computer vision is to divide by 255, the max value of a pixel\n",
        "X_train = X_train / 255.0\n",
        "X_test = X_test / 255.0"
      ],
      "execution_count": 0,
      "outputs": []
    },
    {
      "cell_type": "code",
      "metadata": {
        "id": "4DzCGjeK1z0S",
        "colab_type": "code",
        "colab": {}
      },
      "source": [
        "# Reshape the dataset, flatten all 3D tensors to a single 1d tensor\n",
        "X_train = X_train.reshape(-1, 28*28)\n",
        "X_test = X_test.reshape(-1, 28*28)"
      ],
      "execution_count": 0,
      "outputs": []
    },
    {
      "cell_type": "code",
      "metadata": {
        "id": "EqcyxCUq2BzV",
        "colab_type": "code",
        "colab": {}
      },
      "source": [
        "# Define a fully connected sequential model with keras, add layers as needed. Use dropout to prevent overfitting during training\n",
        "model = tf.keras.models.Sequential()\n",
        "model.add(tf.keras.layers.Dense(units=32, activation='relu', input_shape=(784,)))\n",
        "model.add(tf.keras.layers.Dropout(0.1))\n",
        "model.add(tf.keras.layers.Dense(units=64, activation='relu', input_shape=(784,)))\n",
        "model.add(tf.keras.layers.Dropout(0.1))\n",
        "\n",
        "\n",
        "# Add an output layer equal to the number of potential categories\n",
        "model.add(tf.keras.layers.Dense(units=10, activation='softmax'))"
      ],
      "execution_count": 0,
      "outputs": []
    },
    {
      "cell_type": "code",
      "metadata": {
        "id": "QtgxTQHc32NC",
        "colab_type": "code",
        "colab": {}
      },
      "source": [
        "# Compile the model, add an optimizer and loss function \n",
        "model.compile(optimizer=tf.keras.optimizers.RMSprop(.001), loss=tf.keras.losses.SparseCategoricalCrossentropy(), metrics=[tf.keras.metrics.SparseCategoricalAccuracy()])\n"
      ],
      "execution_count": 0,
      "outputs": []
    },
    {
      "cell_type": "code",
      "metadata": {
        "id": "ajSm7N1U2WU0",
        "colab_type": "code",
        "colab": {}
      },
      "source": [
        "# Summarize the model before training\n",
        "model.summary()"
      ],
      "execution_count": 0,
      "outputs": []
    },
    {
      "cell_type": "code",
      "metadata": {
        "id": "oSfnIJ0z2lhX",
        "colab_type": "code",
        "colab": {}
      },
      "source": [
        "# Train the model, adjust epochs as a changeable hyperparameter\n",
        "model.fit(X_train, y_train, epochs=35)"
      ],
      "execution_count": 0,
      "outputs": []
    },
    {
      "cell_type": "code",
      "metadata": {
        "id": "LJG7WlUD2sHs",
        "colab_type": "code",
        "colab": {}
      },
      "source": [
        "# Evaluate the model against test set\n",
        "test_loss, test_accuracy = model.evaluate(X_test, y_test)\n",
        "print(\"Test accuracy: {}\".format(test_accuracy))"
      ],
      "execution_count": 0,
      "outputs": []
    },
    {
      "cell_type": "code",
      "metadata": {
        "id": "QoP3HdFY4vd1",
        "colab_type": "code",
        "colab": {}
      },
      "source": [
        "# Make 3 predictions from the output of the last layer\n",
        "print('\\n# 3 Predictions:')\n",
        "predictions = model.predict(X_test[:3])\n",
        "print('predictions:', predictions)"
      ],
      "execution_count": 0,
      "outputs": []
    },
    {
      "cell_type": "code",
      "metadata": {
        "id": "hMY_KzfK25df",
        "colab_type": "code",
        "colab": {}
      },
      "source": [
        "# Save the model to a file \n",
        "model_json = model.to_json()\n",
        "with open(\"fashion_model.json\", \"w\") as json_file:\n",
        "    json_file.write(model_json)\n",
        "    \n",
        "    \n",
        "model_json = model.to_json()\n",
        "with open(\"fashion_model.json\", \"w\") as json_file:\n",
        "    json_file.write(model_json)"
      ],
      "execution_count": 0,
      "outputs": []
    },
    {
      "cell_type": "code",
      "metadata": {
        "id": "6Cl97Q5I3GQ9",
        "colab_type": "code",
        "colab": {}
      },
      "source": [
        "# Save the learned network weights\n",
        "model.save_weights(\"fashion_model.h5\")"
      ],
      "execution_count": 0,
      "outputs": []
    }
  ]
}